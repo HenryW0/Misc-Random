{
 "cells": [
  {
   "cell_type": "code",
   "execution_count": 2,
   "metadata": {},
   "outputs": [],
   "source": [
    "import pylab as py\n",
    "\n",
    "def factorial(x): #Function without recursion\n",
    "    if x == 0: \n",
    "        return 1\n",
    "    else:\n",
    "        for i in range(1, x):\n",
    "            x *= i \n",
    "        return x\n",
    "\n",
    "def fact_rec(y): #Function with recursion\n",
    "    if y == 1: \n",
    "        return y\n",
    "    elif y == 0:\n",
    "        return 1\n",
    "    else: \n",
    "        return fact_rec(y-1) * y"
   ]
  },
  {
   "cell_type": "code",
   "execution_count": 5,
   "metadata": {},
   "outputs": [
    {
     "name": "stdout",
     "output_type": "stream",
     "text": [
      "1 \n",
      "1 1 \n",
      "1 2 1 \n",
      "1 3 3 1 \n",
      "1 4 6 4 1 \n",
      "1 5 10 10 5 1 \n",
      "1 6 15 20 15 6 1 \n",
      "1 7 21 35 35 21 7 1 \n",
      "1 8 28 56 70 56 28 8 1 \n",
      "1 9 36 84 126 126 84 36 9 1 \n",
      "1 10 45 120 210 252 210 120 45 10 1 \n",
      "1 11 55 165 330 462 462 330 165 55 11 1 \n",
      "1 12 66 220 495 792 924 792 495 220 66 12 1 \n",
      "1 13 78 286 715 1287 1716 1716 1287 715 286 78 13 1 \n",
      "1 14 91 364 1001 2002 3003 3432 3003 2002 1001 364 91 14 1 \n",
      "1 15 105 455 1365 3003 5005 6435 6435 5005 3003 1365 455 105 15 1 \n",
      "1 16 120 560 1820 4368 8008 11440 12870 11440 8008 4368 1820 560 120 16 1 \n",
      "1 17 136 680 2380 6188 12376 19448 24310 24310 19448 12376 6188 2380 680 136 17 1 \n",
      "1 18 153 816 3060 8568 18564 31824 43758 48620 43758 31824 18564 8568 3060 816 153 18 1 \n",
      "1 19 171 969 3876 11628 27132 50388 75582 92378 92378 75582 50388 27132 11628 3876 969 171 19 1 \n"
     ]
    }
   ],
   "source": [
    "def binomial(n,k): \n",
    "    if k == 0:\n",
    "        return 1\n",
    "    else: \n",
    "        B = factorial(n)/(factorial(k) * factorial(n-k)) #binomial function uses factorial function\n",
    "        return int(B)\n",
    "    \n",
    "def Pascal(n):\n",
    "    for L in range(0, n): #Repeats for 20 lines\n",
    "        for i in range(0, L + 1): #Plus 1 term extra term on each line\n",
    "            print(binomial(L, i), '', end = '')\n",
    "        print()\n",
    "        \n",
    "Pascal(20)"
   ]
  },
  {
   "cell_type": "code",
   "execution_count": 3,
   "metadata": {},
   "outputs": [
    {
     "name": "stdout",
     "output_type": "stream",
     "text": [
      "The probability that a coin tossed 100 times comes up heads exactly 60 times is: 1.084 %\n",
      "The probability that it comes up heads 60 or more times: 2.844 %\n"
     ]
    }
   ],
   "source": [
    "#Coin toss\n",
    "ProbA = round(binomial(100,60)/(2**100),5)\n",
    "\n",
    "print(f'The probability that a coin tossed 100 times comes up heads exactly 60 times is:', ProbA * 100, '%')\n",
    "\n",
    "ProbB = 0\n",
    "\n",
    "for i in range(41):\n",
    "    ProbB += binomial(100, 60+i)/(2**100)\n",
    "\n",
    "ProbB = round(ProbB, 5)\n",
    "\n",
    "print(f'The probability that it comes up heads 60 or more times:', ProbB * 100, '%')"
   ]
  },
  {
   "cell_type": "code",
   "execution_count": 10,
   "metadata": {},
   "outputs": [
    {
     "data": {
      "text/plain": [
       "[<matplotlib.lines.Line2D at 0x1b20a5abef0>]"
      ]
     },
     "execution_count": 10,
     "metadata": {},
     "output_type": "execute_result"
    },
    {
     "data": {
      "image/png": "[encoded data removed]",
      "text/plain": [
       "<Figure size 576x576 with 1 Axes>"
      ]
     },
     "metadata": {
      "needs_background": "light"
     },
     "output_type": "display_data"
    }
   ],
   "source": [
    "m = range(2,99)\n",
    "y = py.zeros(97)\n",
    "\n",
    "\n",
    "for i in range(0,len(m)):\n",
    "    y[i] = binomial(100, m[i])\n",
    "    \n",
    "fig1 = py.figure(figsize=(8,8));\n",
    "py.title('Binomial Function', fontsize=25)\n",
    "py.grid() #turns grid on the graph on \n",
    "py.xlabel('m', fontsize=25)\n",
    "py.ylabel('binomial(100, m)', fontsize=25)    \n",
    "\n",
    "py.plot(m, y, '-or')"
   ]
  },
  {
   "cell_type": "code",
   "execution_count": 6,
   "metadata": {},
   "outputs": [
    {
     "name": "stdout",
     "output_type": "stream",
     "text": [
      "The 100th Catalan term is: 8.965199470901317e+56\n"
     ]
    }
   ],
   "source": [
    "def Catalan(n): #Recursive catalan function\n",
    "    if n == 0: \n",
    "        return 1\n",
    "    else:\n",
    "        return (4*n - 2)/(n + 1) * Catalan(n-1) \n",
    "    \n",
    "print(f'The 100th Catalan term is:', Catalan(100))"
   ]
  },
  {
   "cell_type": "code",
   "execution_count": 7,
   "metadata": {},
   "outputs": [
    {
     "data": {
      "text/plain": [
       "12"
      ]
     },
     "execution_count": 7,
     "metadata": {},
     "output_type": "execute_result"
    }
   ],
   "source": [
    "def g(m,n):\n",
    "    if n== 0:\n",
    "        return m\n",
    "    elif n > 0:\n",
    "        return g(n, m%n)\n",
    "    else:\n",
    "        print('Use positive integers')\n",
    "\n",
    "g(108,192)"
   ]
  },
  {
   "cell_type": "code",
   "execution_count": 8,
   "metadata": {},
   "outputs": [],
   "source": [
    "import numpy as np\n",
    "\n",
    "mylines = np.loadtxt('Hubbard.dat', float)\n",
    "\n",
    "\n",
    "temp = mylines[0:50:1,1]\n",
    "\n",
    "chem = mylines[0:851:1,0]\n",
    "\n",
    "density = mylines[0::1,2]\n",
    "\n",
    "energy = mylines[0::1,3]\n",
    "\n",
    "density = density.reshape(851,50)\n",
    "\n",
    "energy = energy.reshape(851,50)\n",
    "\n",
    "def get_mu_index(rho):\n",
    "    mu_index = np.argmin(np.abs(density - rho), axis = 0) \n",
    "    return mu_index\n",
    "\n",
    "p = 0.65 #Rho that I am using    \n",
    "mu_idx = get_mu_index(p)\n",
    "\n",
    "E = np.zeros(50)\n",
    "for i in range(50):\n",
    "    E[i] = energy[mu_idx[i],i]\n",
    "\n",
    "\n",
    "newfile = open('HenryWahhab_PartI_HW3_PHYS140.txt', 'w')\n",
    "mu_idx = get_mu_index(p)\n",
    "for i in range(50):\n",
    "    newfile.write(f' {temp[i]} {E[i]} \\n')\n",
    "newfile.close()"
   ]
  },
  {
   "cell_type": "code",
   "execution_count": null,
   "metadata": {},
   "outputs": [],
   "source": []
  },
  {
   "cell_type": "code",
   "execution_count": null,
   "metadata": {},
   "outputs": [],
   "source": []
  }
 ],
 "metadata": {
  "kernelspec": {
   "display_name": "Python 3",
   "language": "python",
   "name": "python3"
  },
  "language_info": {
   "codemirror_mode": {
    "name": "ipython",
    "version": 3
   },
   "file_extension": ".py",
   "mimetype": "text/x-python",
   "name": "python",
   "nbconvert_exporter": "python",
   "pygments_lexer": "ipython3",
   "version": "3.7.3"
  }
 },
 "nbformat": 4,
 "nbformat_minor": 2
}
