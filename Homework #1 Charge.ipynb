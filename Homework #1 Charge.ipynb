{
 "cells": [
  {
   "cell_type": "code",
   "execution_count": 52,
   "metadata": {},
   "outputs": [
    {
     "name": "stdout",
     "output_type": "stream",
     "text": [
      "There are 891 excess electrons present in each sphere\n"
     ]
    }
   ],
   "source": [
    ">>> #Two small spheres spaced 20.0 centimeters apart have equal charge.\n",
    ">>> #How many excess electrons must be present on each sphere if the magnitude of the force of repulsion between them is 4.57*10**-21 newtons?\n",
    ">>> from numpy import *\n",
    ">>> # r is the distance between the charges, F is the force of attraction/repulsion, e is the charge of an electron, and k is Coulomb's law constant\n",
    ">>> r, F, e, k = 0.2, 4.57*10**-21, 1.6*10**-19, 9.0*10**9\n",
    ">>> #This formula will calculate the charge of a single sphere since both of the charges are equal\n",
    ">>> q=sqrt((F*r**2)/k)\n",
    ">>> #The answer will be rounded to the nearest electron since the energy is quantized\n",
    ">>> n=round(q/e)\n",
    ">>> #Since the question asks how many excess electrons there are, we have to use the charge of the sphere\n",
    ">>> #and divide it by the charge of a single electron in order to find out how many excess electrons are present\n",
    ">>> print('There are %d excess electrons present in each sphere' %(n))"
   ]
  },
  {
   "cell_type": "code",
   "execution_count": 51,
   "metadata": {},
   "outputs": [
    {
     "name": "stdout",
     "output_type": "stream",
     "text": [
      "There are 891 excess electrons present in each sphere\n"
     ]
    }
   ],
   "source": [
    ">>> from numpy import *\n",
    ">>> r, F, e, k = 0.2, 4.57*10**-21, 1.6*10**-19, 9.0*10**9\n",
    ">>> q=sqrt((F*r**2)/k)\n",
    ">>> n=round(q/e)\n",
    ">>> print('There are %d excess electrons present in each sphere' %(n))"
   ]
  },
  {
   "cell_type": "code",
   "execution_count": null,
   "metadata": {},
   "outputs": [],
   "source": [
    "#k=array([31,321,44,42,1,0,4,2])\n",
    "#(k)+2 >= 0\n",
    "#all(k)"
   ]
  }
 ],
 "metadata": {
  "kernelspec": {
   "display_name": "Python 3",
   "language": "python",
   "name": "python3"
  },
  "language_info": {
   "codemirror_mode": {
    "name": "ipython",
    "version": 3
   },
   "file_extension": ".py",
   "mimetype": "text/x-python",
   "name": "python",
   "nbconvert_exporter": "python",
   "pygments_lexer": "ipython3",
   "version": "3.7.3"
  }
 },
 "nbformat": 4,
 "nbformat_minor": 4
}
