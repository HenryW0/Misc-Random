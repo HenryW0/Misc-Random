{
 "cells": [
  {
   "cell_type": "code",
   "execution_count": 53,
   "id": "61af2f7e",
   "metadata": {},
   "outputs": [],
   "source": [
    "import numpy as np\n",
    "\n",
    "approx = np.power(306, 1/5)\n",
    "\n",
    "def rel_error(measured, actual):\n",
    "    return (abs(measured - actual)/actual)\n",
    "\n",
    "approx_err = rel_error(approx, np.pi)\n",
    "\n",
    "def pi_root(n, end):\n",
    "    \n",
    "    for i in range(1, end + 1):\n",
    "        val = np.power(i, (1/n))\n",
    "        \n",
    "        if (rel_error(val, np.pi) < approx_err):\n",
    "            print(\"number: \" + str(i), \"root: \" + str(n), \"value: \" + str(val))"
   ]
  },
  {
   "cell_type": "code",
   "execution_count": 55,
   "id": "b8815533",
   "metadata": {},
   "outputs": [
    {
     "name": "stdout",
     "output_type": "stream",
     "text": [
      "number: 29806 root: 9 value: 3.1415563585830357\n",
      "number: 29807 root: 9 value: 3.14156806953428\n",
      "number: 29808 root: 9 value: 3.1415797801362917\n",
      "number: 29809 root: 9 value: 3.1415914903890925\n",
      "number: 29810 root: 9 value: 3.141603200292705\n",
      "number: 29811 root: 9 value: 3.141614909847151\n",
      "number: 29812 root: 9 value: 3.1416266190524533\n"
     ]
    }
   ],
   "source": [
    "pi_root(9, 100000)"
   ]
  },
  {
   "cell_type": "code",
   "execution_count": 56,
   "id": "2712e80a",
   "metadata": {},
   "outputs": [
    {
     "name": "stdout",
     "output_type": "stream",
     "text": [
      "1.2865376164223962e-05\n",
      "3.7025828263249326e-07\n"
     ]
    }
   ],
   "source": [
    "print(approx_err)\n",
    "print(rel_error(np.power(29809, 1/9), np.pi))"
   ]
  },
  {
   "cell_type": "code",
   "execution_count": null,
   "id": "b0b6f7f8",
   "metadata": {},
   "outputs": [],
   "source": []
  }
 ],
 "metadata": {
  "kernelspec": {
   "display_name": "Python 3 (ipykernel)",
   "language": "python",
   "name": "python3"
  },
  "language_info": {
   "codemirror_mode": {
    "name": "ipython",
    "version": 3
   },
   "file_extension": ".py",
   "mimetype": "text/x-python",
   "name": "python",
   "nbconvert_exporter": "python",
   "pygments_lexer": "ipython3",
   "version": "3.7.13"
  }
 },
 "nbformat": 4,
 "nbformat_minor": 5
}
