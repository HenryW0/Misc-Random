{
 "cells": [
  {
   "cell_type": "code",
   "execution_count": 1,
   "metadata": {},
   "outputs": [],
   "source": [
    "import numpy as np\n",
    "\n",
    "N = 100 #Number of slices\n",
    "\n",
    "def funct(t): #Define the exact function which you want to approximate\n",
    "    return np.e**(-t**2)\n",
    "    \n",
    "def trap(f, a, b, N): #Approximate using starting point of 0 and end point of 1, with N slices. (a start point, b end point)\n",
    "    \n",
    "    Step = (b - a) / N #Definition of step size\n",
    "    \n",
    "    I = (1/2) * Step * (f(a) + f(b)) #First part of the approximation\n",
    "    \n",
    "    for i in range(1, N): #Loop to approximate the other slices from 1 (technically 2)  to N-1\n",
    "        I += Step * f(a + (i * Step)) #Add each trapezoid equal to the step size * f(x_i) each time\n",
    "        \n",
    "    return I"
   ]
  },
  {
   "cell_type": "code",
   "execution_count": 2,
   "metadata": {},
   "outputs": [
    {
     "name": "stdout",
     "output_type": "stream",
     "text": [
      "0.7468180014679701\n"
     ]
    }
   ],
   "source": [
    "Approx = trap(funct, 0, 1, N) #Call the function with given bounds\n",
    "print(Approx) #Value using trapezoidal method"
   ]
  },
  {
   "cell_type": "code",
   "execution_count": 3,
   "metadata": {},
   "outputs": [],
   "source": [
    "Exact_Value = 0.746824"
   ]
  },
  {
   "cell_type": "code",
   "execution_count": 4,
   "metadata": {},
   "outputs": [
    {
     "name": "stdout",
     "output_type": "stream",
     "text": [
      "0.0008032055785543426 % for 100 terms\n"
     ]
    }
   ],
   "source": [
    "Relative_Error = np.abs(Exact_Value - Approx)/Exact_Value\n",
    "print(f'{Relative_Error * 100} % for {N} terms')"
   ]
  },
  {
   "cell_type": "code",
   "execution_count": 14,
   "metadata": {},
   "outputs": [
    {
     "name": "stdout",
     "output_type": "stream",
     "text": [
      "5.666619999999985\n",
      "5.666666666666667\n"
     ]
    }
   ],
   "source": [
    "# Simpsons method\n",
    "import numpy as np\n",
    "from scipy.integrate import simps\n",
    "a = 0\n",
    "b = 1\n",
    "N = 100001 #N is the number of grid points in this case \n",
    "dx = (b - a)/(N - 1)\n",
    "\n",
    "def f(x):\n",
    "    return 2*x**2 + 5\n",
    "\n",
    "I = (f(a) + f(b))/3.0\n",
    "\n",
    "for i in range(1, N - 1, 2):\n",
    "    x = a + i*dx\n",
    "    I += 4*f(x)/3\n",
    "\n",
    "for i in range(2, N - 1, 2):\n",
    "    x = a + i*dx\n",
    "    I += 2*f(x)/3\n",
    "\n",
    "I *= dx\n",
    "print(I)\n",
    "x = np.linspace(a, b, N)\n",
    "y = f(x)\n",
    "print(simps(y,x))"
   ]
  },
  {
   "cell_type": "code",
   "execution_count": null,
   "metadata": {},
   "outputs": [],
   "source": []
  },
  {
   "cell_type": "code",
   "execution_count": null,
   "metadata": {},
   "outputs": [],
   "source": []
  }
 ],
 "metadata": {
  "kernelspec": {
   "display_name": "Python 3",
   "language": "python",
   "name": "python3"
  },
  "language_info": {
   "codemirror_mode": {
    "name": "ipython",
    "version": 3
   },
   "file_extension": ".py",
   "mimetype": "text/x-python",
   "name": "python",
   "nbconvert_exporter": "python",
   "pygments_lexer": "ipython3",
   "version": "3.7.3"
  }
 },
 "nbformat": 4,
 "nbformat_minor": 2
}
