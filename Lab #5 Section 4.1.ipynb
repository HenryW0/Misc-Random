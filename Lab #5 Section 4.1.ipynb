{
 "cells": [
  {
   "cell_type": "code",
   "execution_count": 2,
   "metadata": {},
   "outputs": [
    {
     "name": "stdout",
     "output_type": "stream",
     "text": [
      "[6, 24, 2.5, 'labtime', 1.4142135623730951]\n",
      "[ 0  3  6  9 12 15 18 21 24 27 30 33 36 39 42]\n",
      "[ 18.   13.5   9.    4.5   0.   -4.5  -9.  -13.5 -18. ]\n",
      "[5.0, 8.733333333333334, 12.466666666666667, 16.2, 19.933333333333334, 23.666666666666668, 27.4, 31.133333333333333, 34.86666666666667, 38.6, 42.333333333333336, 46.06666666666667, 49.8, 53.53333333333333, 57.266666666666666, 61.0]\n",
      "Henry Wahhab\n",
      "[ 3.  7. 11. 15. 19. 23. 27. 31. 35. 39. 43. 47. 51.]\n",
      "[ 3  7 11 15 43 47 51]\n"
     ]
    }
   ],
   "source": [
    "from numpy import *\n",
    "\n",
    "vector1= [6, 8*3, 2.5, 'labtime',sqrt(2)]\n",
    "print(vector1)\n",
    "vector2= array(range(0,43,3))\n",
    "print(vector2)\n",
    "vector3= arange(18.0,-18.5,-4.5,dtype=float)      \n",
    "print(vector3)\n",
    "list1= list(linspace(5,61,16))\n",
    "print(list1)\n",
    "name1='Henry'\n",
    "name2=' Wahhab' #add an extra space to separate names\n",
    "N=name1+name2 #concatenation\n",
    "print(N)\n",
    "Afirst=linspace(3,51,13)\n",
    "print(Afirst)\n",
    "Asecond=array(range(0,7))\n",
    "Asecond[0:4]=Afirst[0:4]\n",
    "Asecond[4:7]=Afirst[10:13]\n",
    "print(Asecond)"
   ]
  },
  {
   "cell_type": "code",
   "execution_count": null,
   "metadata": {},
   "outputs": [],
   "source": []
  }
 ],
 "metadata": {
  "kernelspec": {
   "display_name": "Python 3",
   "language": "python",
   "name": "python3"
  },
  "language_info": {
   "codemirror_mode": {
    "name": "ipython",
    "version": 3
   },
   "file_extension": ".py",
   "mimetype": "text/x-python",
   "name": "python",
   "nbconvert_exporter": "python",
   "pygments_lexer": "ipython3",
   "version": "3.7.3"
  }
 },
 "nbformat": 4,
 "nbformat_minor": 4
}
