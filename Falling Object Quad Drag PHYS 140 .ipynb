{
 "cells": [
  {
   "cell_type": "code",
   "execution_count": 4,
   "metadata": {},
   "outputs": [],
   "source": [
    "import numpy as np\n",
    "from matplotlib.pylab import plt\n",
    "\n",
    "init = [0.0, 0.0]\n",
    "N = 1000\n",
    "\n",
    "t = np.linspace(0,1,N)\n",
    "r = np.zeros((N,2))\n",
    "#print(r[0,:])\n",
    "r[0,:] = init\n",
    "#print(r[0,:])\n",
    "\n",
    "def F(var,t):\n",
    "    g = 9.8\n",
    "    b = 0.5\n",
    "    m = 1.0\n",
    "    \n",
    "    y = var[0]\n",
    "    v = var[1]\n",
    "    \n",
    "    return np.array([v, (g - b * v**2)/m])\n",
    "\n",
    "h = t[1] - t[0]\n",
    "for i in range(N-1):\n",
    "    \n",
    "    k1 = h*F(r[i,:], t[i])\n",
    "    k2 = h*F(r[i,:] + k1/2, t[i]+h/2)\n",
    "    k3 = h*F(r[i,:] + k2/2, t[i]+h/2)\n",
    "    k4 = h*F(r[i,:] + k3, t[i+1])\n",
    "\n",
    "    \n",
    "    r[i+1,:] = r[i,:] + (k1 + 2*k2 + 2*k3 + k4)/6\n",
    "    "
   ]
  },
  {
   "cell_type": "code",
   "execution_count": 5,
   "metadata": {},
   "outputs": [
    {
     "data": {
      "text/plain": [
       "[<matplotlib.lines.Line2D at 0x1bf2b3ec978>]"
      ]
     },
     "execution_count": 5,
     "metadata": {},
     "output_type": "execute_result"
    },
    {
     "data": {
      "image/png": "[encoded data removed]",
      "text/plain": [
       "<Figure size 432x288 with 1 Axes>"
      ]
     },
     "metadata": {
      "needs_background": "light"
     },
     "output_type": "display_data"
    }
   ],
   "source": [
    "plt.plot(t,r[:,0])"
   ]
  },
  {
   "cell_type": "code",
   "execution_count": null,
   "metadata": {},
   "outputs": [],
   "source": []
  }
 ],
 "metadata": {
  "kernelspec": {
   "display_name": "Python 3",
   "language": "python",
   "name": "python3"
  },
  "language_info": {
   "codemirror_mode": {
    "name": "ipython",
    "version": 3
   },
   "file_extension": ".py",
   "mimetype": "text/x-python",
   "name": "python",
   "nbconvert_exporter": "python",
   "pygments_lexer": "ipython3",
   "version": "3.7.3"
  }
 },
 "nbformat": 4,
 "nbformat_minor": 2
}
