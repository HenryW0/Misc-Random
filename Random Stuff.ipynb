{
 "cells": [
  {
   "cell_type": "code",
   "execution_count": 1,
   "metadata": {},
   "outputs": [
    {
     "name": "stdout",
     "output_type": "stream",
     "text": [
      "Dimension number: 2\n",
      "Enter two 2D vectors: (1,4),(5,2)\n",
      "The dot product is 13.00\n"
     ]
    }
   ],
   "source": [
    "from numpy import *\n",
    "\n",
    "x=eval(input('Dimension number: '))\n",
    "def dimension(x):\n",
    "    if x==2:\n",
    "        (a,b),(c,d)=eval(input('Enter two 2D vectors: '))\n",
    "        A,D = (a,b),(c,d)\n",
    "        print('The dot product is %.2f' %(dot(A,D)))\n",
    "        #print('The cross product is %s' %(cross(A,D))) \n",
    "        return dimension\n",
    "    elif x==3:\n",
    "        (a,b,c),(d,e,f)= eval(input('Enter two 3D vectors: '))\n",
    "        A,D = (a,b,c),(d,e,f)\n",
    "        print('The dot product is %.2f' %(dot(A,D)))\n",
    "        print('The cross product is %s' %(cross(A,D)))\n",
    "        return dimension\n",
    "    else:\n",
    "        raise ValueError('Enter 2 or 3')\n",
    "        return dimension\n",
    "    \n",
    "DX=dimension(x)"
   ]
  },
  {
   "cell_type": "code",
   "execution_count": 1,
   "metadata": {},
   "outputs": [
    {
     "ename": "ModuleNotFoundError",
     "evalue": "No module named '_curses'",
     "output_type": "error",
     "traceback": [
      "\u001b[1;31m---------------------------------------------------------------------------\u001b[0m",
      "\u001b[1;31mModuleNotFoundError\u001b[0m                       Traceback (most recent call last)",
      "\u001b[1;32m<ipython-input-1-2f0a79c499d9>\u001b[0m in \u001b[0;36m<module>\u001b[1;34m\u001b[0m\n\u001b[0;32m      1\u001b[0m \u001b[1;32mimport\u001b[0m \u001b[0mrandom\u001b[0m\u001b[1;33m\u001b[0m\u001b[1;33m\u001b[0m\u001b[0m\n\u001b[1;32m----> 2\u001b[1;33m \u001b[1;32mimport\u001b[0m \u001b[0mcurses\u001b[0m\u001b[1;33m\u001b[0m\u001b[1;33m\u001b[0m\u001b[0m\n\u001b[0m\u001b[0;32m      3\u001b[0m \u001b[1;33m\u001b[0m\u001b[0m\n\u001b[0;32m      4\u001b[0m \u001b[0ms\u001b[0m \u001b[1;33m=\u001b[0m \u001b[0mcurses\u001b[0m\u001b[1;33m.\u001b[0m\u001b[0minitscr\u001b[0m\u001b[1;33m(\u001b[0m\u001b[1;33m)\u001b[0m\u001b[1;33m\u001b[0m\u001b[1;33m\u001b[0m\u001b[0m\n\u001b[0;32m      5\u001b[0m \u001b[0mcurses\u001b[0m\u001b[1;33m.\u001b[0m\u001b[0mcurs_set\u001b[0m\u001b[1;33m(\u001b[0m\u001b[1;36m0\u001b[0m\u001b[1;33m)\u001b[0m\u001b[1;33m\u001b[0m\u001b[1;33m\u001b[0m\u001b[0m\n",
      "\u001b[1;32m~\\Testing\\lib\\curses\\__init__.py\u001b[0m in \u001b[0;36m<module>\u001b[1;34m\u001b[0m\n\u001b[0;32m     11\u001b[0m \"\"\"\n\u001b[0;32m     12\u001b[0m \u001b[1;33m\u001b[0m\u001b[0m\n\u001b[1;32m---> 13\u001b[1;33m \u001b[1;32mfrom\u001b[0m \u001b[0m_curses\u001b[0m \u001b[1;32mimport\u001b[0m \u001b[1;33m*\u001b[0m\u001b[1;33m\u001b[0m\u001b[1;33m\u001b[0m\u001b[0m\n\u001b[0m\u001b[0;32m     14\u001b[0m \u001b[1;32mimport\u001b[0m \u001b[0mos\u001b[0m \u001b[1;32mas\u001b[0m \u001b[0m_os\u001b[0m\u001b[1;33m\u001b[0m\u001b[1;33m\u001b[0m\u001b[0m\n\u001b[0;32m     15\u001b[0m \u001b[1;32mimport\u001b[0m \u001b[0msys\u001b[0m \u001b[1;32mas\u001b[0m \u001b[0m_sys\u001b[0m\u001b[1;33m\u001b[0m\u001b[1;33m\u001b[0m\u001b[0m\n",
      "\u001b[1;31mModuleNotFoundError\u001b[0m: No module named '_curses'"
     ]
    }
   ],
   "source": [
    "import random\n",
    "import curses\n",
    "\n",
    "s = curses.initscr()\n",
    "curses.curs_set(0)\n",
    "sh, sw = s.getmaxyx()\n",
    "w = curses.newwin(sh, sw, 0, 0)\n",
    "w.keypad(1)\n",
    "w.timeout(100)\n",
    "\n",
    "snk_x = sw/4\n",
    "snk_y = sh/2\n",
    "snake = [\n",
    "    [snk_y, snk_x],\n",
    "    [snk_y, snk_x-1],\n",
    "    [snk_y, snk_x-2]\n",
    "]\n",
    "\n",
    "food = [sh/2, sw/2]\n",
    "w.addch(int(food[0]), int(food[1]), curses.ACS_PI)\n",
    "\n",
    "key = curses.KEY_RIGHT\n",
    "\n",
    "while True:\n",
    "    next_key = w.getch()\n",
    "    key = key if next_key == -1 else next_key\n",
    "\n",
    "    if snake[0][0] in [0, sh] or snake[0][1]  in [0, sw] or snake[0] in snake[1:]:\n",
    "        curses.endwin()\n",
    "        quit()\n",
    "\n",
    "    new_head = [snake[0][0], snake[0][1]]\n",
    "\n",
    "    if key == curses.KEY_DOWN:\n",
    "        new_head[0] += 1\n",
    "    if key == curses.KEY_UP:\n",
    "        new_head[0] -= 1\n",
    "    if key == curses.KEY_LEFT:\n",
    "        new_head[1] -= 1\n",
    "    if key == curses.KEY_RIGHT:\n",
    "        new_head[1] += 1\n",
    "\n",
    "    snake.insert(0, new_head)\n",
    "\n",
    "    if snake[0] == food:\n",
    "        food = None\n",
    "        while food is None:\n",
    "            nf = [\n",
    "                random.randint(1, sh-1),\n",
    "                random.randint(1, sw-1)\n",
    "            ]\n",
    "            food = nf if nf not in snake else None\n",
    "        w.addch(food[0], food[1], curses.ACS_PI)\n",
    "    else:\n",
    "        tail = snake.pop()\n",
    "        w.addch(int(tail[0]), int(tail[1]), ' ')\n",
    "\n",
    "    w.addch(int(snake[0][0]), int(snake[0][1]), curses.ACS_CKBOARD)"
   ]
  },
  {
   "cell_type": "code",
   "execution_count": 2,
   "metadata": {},
   "outputs": [
    {
     "name": "stdout",
     "output_type": "stream",
     "text": [
      "1 (0, 0)\n",
      "2 (1, 0)\n",
      "4 (1, 1)\n",
      "3 (2, 0)\n",
      "6 (2, 1)\n",
      "9 (2, 2)\n"
     ]
    }
   ],
   "source": [
    "from numpy import *\n",
    "p = array([1,2,3])\n",
    "\n",
    "for i in range(len(p)):\n",
    "    for j in range(len(p)):\n",
    "        if i>=j:\n",
    "            print(p[i]*p[j], (i,j))\n"
   ]
  },
  {
   "cell_type": "code",
   "execution_count": 8,
   "metadata": {},
   "outputs": [
    {
     "name": "stdout",
     "output_type": "stream",
     "text": [
      "27\n",
      "Count 18\n",
      "(0, 0, 0)\n",
      "(0, 0, 1)\n",
      "(0, 0, 2)\n",
      "(0, 1, 0)\n",
      "(0, 1, 1)\n",
      "(0, 1, 2)\n",
      "(0, 2, 0)\n",
      "(0, 2, 1)\n",
      "(0, 2, 2)\n",
      "(1, 0, 0)\n",
      "(1, 0, 1)\n",
      "(1, 0, 2)\n",
      "(1, 1, 0)\n",
      "(1, 1, 1)\n",
      "(1, 1, 2)\n",
      "(1, 2, 0)\n",
      "(1, 2, 1)\n",
      "(1, 2, 2)\n",
      "(2, 0, 0)\n",
      "(2, 0, 1)\n",
      "(2, 0, 2)\n",
      "(2, 1, 0)\n",
      "(2, 1, 1)\n",
      "(2, 1, 2)\n",
      "(2, 2, 0)\n",
      "(2, 2, 1)\n",
      "(2, 2, 2)\n"
     ]
    }
   ],
   "source": [
    "from numpy import *\n",
    "\n",
    "count = 0\n",
    "C = [0, 1, 2]\n",
    "Lock=[]\n",
    "for L1 in range(len(C)):\n",
    "    for L2 in range(len(C)):\n",
    "        for L3 in range(len(C)):\n",
    "            Lock.append((C[L1], C[L2], C[L3]))\n",
    "            if (L1 != 0):\n",
    "                count += 1\n",
    "\n",
    "print(len(Lock))\n",
    "print(\"Count \" + str(count))\n",
    "\n",
    "for i in range(len(Lock)):\n",
    "    print(Lock[i])"
   ]
  },
  {
   "cell_type": "code",
   "execution_count": 22,
   "metadata": {},
   "outputs": [
    {
     "name": "stdout",
     "output_type": "stream",
     "text": [
      "Enter X value: 1\n",
      "0\n",
      "1\n",
      "2\n",
      "3\n",
      "4\n",
      "HW is done\n"
     ]
    }
   ],
   "source": [
    "Z=0\n",
    "X=int(input('Enter X value: '))\n",
    "\n",
    "if X==1:\n",
    "    while Z < 5:\n",
    "        print(Z)\n",
    "        Z=Z+1\n",
    "    if Z==5:\n",
    "        print('HW is done')"
   ]
  },
  {
   "cell_type": "code",
   "execution_count": 53,
   "metadata": {},
   "outputs": [
    {
     "name": "stdout",
     "output_type": "stream",
     "text": [
      "Enter x value needed, step size=.1: .5\n",
      "The value at 0.5 is approximately 3.60150\n",
      "[2.         2.4        2.784      3.1225344  3.39652605 3.60149755]\n"
     ]
    }
   ],
   "source": [
    "from numpy import *\n",
    "\n",
    "value=float(input('Enter x value needed, step size=.1: '))\n",
    "rep=int(round(value/.1))\n",
    "\n",
    "y=zeros(rep+1)\n",
    "y[0]=2\n",
    "\n",
    "for n in range(rep):\n",
    "    y[n+1]=y[n]+.1*(4*y[n]-(y[n])**2)\n",
    "\n",
    "print('The value at %.1f is approximately %.5f' %(value,y[rep]))\n",
    "print(y)"
   ]
  },
  {
   "cell_type": "code",
   "execution_count": 16,
   "metadata": {},
   "outputs": [
    {
     "name": "stdout",
     "output_type": "stream",
     "text": [
      "Insert Point 1 (x,y): (1,3)\n",
      "Insert Point 2 (x,y): (2,4)\n",
      "Insert Point 3 (x,y): (4,6)\n",
      "Insert Point 4 (x,y): (5,7)\n",
      "The Coordinates of Point 1 are (1, 3)\n",
      "The Coordinates of Point 2 are (2, 4)\n",
      "The Coordinates of Point 3 are (4, 6)\n",
      "The Coordinates of Point 4 are (5, 7)\n"
     ]
    }
   ],
   "source": [
    "from numpy import *\n",
    "\n",
    "points=[0,0,0,0]\n",
    "for i in range(4):\n",
    "    points[i]=eval(input('Insert Point %.d (x,y): ' %(i+1)))\n",
    "\n",
    "    \n",
    "for n in range(4):\n",
    "    print('The Coordinates of Point %.d are' %(n+1),(points[n][0],points[n][1]))"
   ]
  },
  {
   "cell_type": "code",
   "execution_count": 12,
   "metadata": {},
   "outputs": [
    {
     "name": "stdout",
     "output_type": "stream",
     "text": [
      "0.0 0.0\n",
      "0.3 0.64\n",
      "0.6 1.28\n",
      "0.9 1.682\n",
      "1.2 1.796\n",
      "1.5 1.76\n",
      "1.8 1.694\n",
      "2.1 1.693\n",
      "2.4 1.961\n",
      "2.7 2.9\n",
      "3.0 3.815\n"
     ]
    },
    {
     "data": {
      "text/plain": [
       "[<matplotlib.lines.Line2D at 0x2031a65e208>]"
      ]
     },
     "execution_count": 12,
     "metadata": {},
     "output_type": "execute_result"
    },
    {
     "data": {
      "image/png": "[encoded data removed]",
      "text/plain": [
       "<Figure size 720x720 with 1 Axes>"
      ]
     },
     "metadata": {
      "needs_background": "light"
     },
     "output_type": "display_data"
    }
   ],
   "source": [
    "from pylab import *\n",
    "\n",
    "#IMPROVED EULER METHOD CODE TEMPLATE f(x,y)= x + 2cos(xy)\n",
    "\n",
    "def foo(x,y):\n",
    "    foo = x + 2*cos(x*y) #slope function y' \n",
    "    return foo\n",
    "\n",
    "h=0.3 #step size/ x increment\n",
    "x=zeros(12) \n",
    "y=zeros(12)\n",
    "y[0]=0\n",
    "\n",
    "def goo(x,y):\n",
    "    goo = (y+h*(foo(x,y))) #initial y + (x increment times slope)\n",
    "    return goo\n",
    "    \n",
    "for i in range(11):\n",
    "    x[i+1] = x[i] + h\n",
    "    y[i+1]= y[i] + (h*(foo(x[i],y[i])+ foo(x[i+1],goo(x[i],y[i]))))/2\n",
    "    print(round(x[i],2),round(y[i],3))\n",
    "\n",
    "\n",
    "fig1 = figure(figsize=(10,10));\n",
    "grid(color='black', linestyle='-', linewidth=.5)\n",
    "plot(x,y,color='red')"
   ]
  },
  {
   "cell_type": "code",
   "execution_count": 10,
   "metadata": {},
   "outputs": [
    {
     "name": "stdout",
     "output_type": "stream",
     "text": [
      "1! = 1\n",
      "2! = 2\n",
      "3! = 6\n",
      "4! = 24\n",
      "5! = 120\n",
      "6! = 720\n",
      "7! = 5040\n",
      "8! = 40320\n",
      "9! = 362880\n",
      "10! = 3628800\n"
     ]
    }
   ],
   "source": [
    "#Factorial starting at 1\n",
    "from numpy import *\n",
    "\n",
    "factorial=zeros(11)\n",
    "factorial[0]=1\n",
    "for n in range(1,11):\n",
    "    factorial[n]=n*factorial[n-1]\n",
    "    print(str(n)+'! =',int(factorial[n]))"
   ]
  },
  {
   "cell_type": "code",
   "execution_count": 9,
   "metadata": {},
   "outputs": [
    {
     "name": "stdout",
     "output_type": "stream",
     "text": [
      "[1.364, 1.383, 1.347, 1.324, 1.334, 1.335, 1.35, 1.361, 1.34, 1.333, 1.32, 1.331, 1.328, 1.325, 1.328, 1.336, 1.35, 1.314]\n"
     ]
    },
    {
     "data": {
      "text/plain": [
       "(array([2., 2., 5., 3., 1., 2., 1., 1., 0., 1.]),\n",
       " array([1.314 , 1.3209, 1.3278, 1.3347, 1.3416, 1.3485, 1.3554, 1.3623,\n",
       "        1.3692, 1.3761, 1.383 ]),\n",
       " <a list of 10 Patch objects>)"
      ]
     },
     "execution_count": 9,
     "metadata": {},
     "output_type": "execute_result"
    },
    {
     "data": {
      "image/png": "[encoded data removed]",
      "text/plain": [
       "<Figure size 432x288 with 1 Axes>"
      ]
     },
     "metadata": {
      "needs_background": "light"
     },
     "output_type": "display_data"
    }
   ],
   "source": [
    "#PHYS 52 STUFF\n",
    "\n",
    "#Report 6\n",
    "\n",
    "from pylab import *\n",
    "\n",
    "refract=array([1.3642, 1.3831,1.3471,1.3242,1.3347,1.3356,1.35,1.3611,1.34,1.3335,1.32,1.3316,1.3289,1.325,1.3289,1.336,1.35,1.3141])\n",
    "refract_trun=[]\n",
    "\n",
    "def truncate(f, n):\n",
    "    return math.floor(f * 10 ** n) / 10 ** n\n",
    "\n",
    "for i in range(len(refract)):\n",
    "    refract_trun.append(truncate(refract[i],3))\n",
    "    \n",
    "histo=refract_trun\n",
    "print(histo)\n",
    "\n",
    "\n",
    "hist(histo)"
   ]
  },
  {
   "cell_type": "code",
   "execution_count": 16,
   "metadata": {},
   "outputs": [
    {
     "name": "stdout",
     "output_type": "stream",
     "text": [
      "Password Length: 10\n",
      "KSZtzvrdBW\n"
     ]
    }
   ],
   "source": [
    "#Random password generator\n",
    "import random as random\n",
    "\n",
    "characters='abcdefghijklmnopqrstuvwxyz'\n",
    "\n",
    "n=int(input('Password Length: '))\n",
    "password=''\n",
    "\n",
    "for i in range(n):\n",
    "    R=random.randint(0,25)\n",
    "    password = (characters[R]) + password\n",
    "\n",
    "def cap_n(s, n):\n",
    "    if n != len(s):\n",
    "        return s[:n] + s[n].capitalize() + s[n+1:]\n",
    "    else:\n",
    "        return s[:n] + s[n:].capitalize()\n",
    "\n",
    "for i in range(n//2):\n",
    "    R=random.randint(0,n-1)\n",
    "    #print(R)\n",
    "    password = cap_n(password,R)\n",
    "\n",
    "    \n",
    "print(password)"
   ]
  },
  {
   "cell_type": "code",
   "execution_count": 8,
   "metadata": {},
   "outputs": [
    {
     "name": "stdout",
     "output_type": "stream",
     "text": [
      "hello world"
     ]
    }
   ],
   "source": [
    "import time\n",
    "string = \"hello world\"\n",
    "for char in string:\n",
    "    print(char, end='')\n",
    "    time.sleep(.27)"
   ]
  },
  {
   "cell_type": "code",
   "execution_count": 8,
   "metadata": {},
   "outputs": [
    {
     "name": "stdout",
     "output_type": "stream",
     "text": [
      "Enter Number: 751\n",
      "751 is a prime number\n"
     ]
    }
   ],
   "source": [
    "#Prime Number Checker\n",
    "\n",
    "N = int(input('Enter Number: '))\n",
    "c = 2\n",
    "\n",
    "while c <= (N//2):\n",
    "    if N%c == 0:\n",
    "        print('%d is not a prime number' %(N))\n",
    "        break\n",
    "    elif c == N//2:\n",
    "        print('%d is a prime number' %(N))\n",
    "        break\n",
    "    else:\n",
    "        c += 1"
   ]
  },
  {
   "cell_type": "code",
   "execution_count": 5,
   "metadata": {},
   "outputs": [
    {
     "name": "stdout",
     "output_type": "stream",
     "text": [
      "slope =  4.233491015266987e-15\n",
      "standard error of the slope =  5.1005809147448534e-17\n",
      "intercept =  -2.4881277604609\n"
     ]
    },
    {
     "data": {
      "image/png": "[encoded data removed]",
      "text/plain": [
       "<Figure size 432x288 with 1 Axes>"
      ]
     },
     "metadata": {
      "needs_background": "light"
     },
     "output_type": "display_data"
    }
   ],
   "source": [
    "# Calculates the linear regression model y = a + bx\n",
    "# Returns the y-axis intercept (a) and the slope (b)\n",
    "# Plots the data and the calculated fit\n",
    "\n",
    "# Import Scipy packages\n",
    "\n",
    "from scipy import stats\n",
    "import numpy as np\n",
    "import matplotlib.pyplot as plt\n",
    "\n",
    "# Input x and y data\n",
    "\n",
    "x = np.array([(1.2*(10**15)), (1.00*(10**15)), (8.57*(10**14)), (7.5*(10**14)), (6.67*(10**14))])\n",
    "y = np.array([2.58, 1.75, 1.16, 0.7, 0.31])\n",
    "\n",
    "# Perform linear regression of the xy data\n",
    "# Print results\n",
    "\n",
    "slope = stats.linregress(x, y)[0]\n",
    "std_err = stats.linregress(x, y)[4]\n",
    "intercept = stats.linregress(x, y)[1]\n",
    "\n",
    "print (\"slope = \", slope)\n",
    "print (\"standard error of the slope = \", std_err)\n",
    "print (\"intercept = \", intercept)\n",
    "\n",
    "# Calculate the linear fit data\n",
    "# with the calculated fit and intercept\n",
    "# from linear regression\n",
    "\n",
    "fit = intercept + slope * x\n",
    "\n",
    "# Plot the xy data and the calculated fit\n",
    "# on the same graph\n",
    "# Annotate the plot\n",
    "\n",
    "plt.plot(x, y, 'o')         # o:circle\n",
    "plt.plot(x, fit, 'k-')      # k: black, -: line\n",
    "plt.grid(color='black', linestyle='-', linewidth=.5)\n",
    "\n",
    "plt.title('Stopping Potential vs. Light Frequency')\n",
    "plt.legend(['Measured data','Fit'],loc=0)  #'loc=0: 'best location'\n",
    "plt.xlabel('Frequency (Hz)')\n",
    "plt.ylabel('Stopping Potential (V)')\n",
    "\n",
    "plt.show()"
   ]
  },
  {
   "cell_type": "code",
   "execution_count": 3,
   "metadata": {
    "scrolled": true
   },
   "outputs": [
    {
     "name": "stdout",
     "output_type": "stream",
     "text": [
      "121.544 nm I=2 F=1\n",
      "102.552 nm I=3 F=1\n",
      "97.235 nm I=4 F=1\n",
      "94.956 nm I=5 F=1\n",
      "93.762 nm I=6 F=1\n",
      "93.057 nm I=7 F=1\n",
      "92.605 nm I=8 F=1\n",
      "92.297 nm I=9 F=1\n",
      "-121.544 nm I=1 F=2\n",
      "656.335 nm I=3 F=2\n",
      "486.174 nm I=4 F=2\n",
      "434.084 nm I=5 F=2\n",
      "410.21 nm I=6 F=2\n",
      "397.042 nm I=7 F=2\n",
      "388.94 nm I=8 F=2\n",
      "383.573 nm I=9 F=2\n",
      "-102.552 nm I=1 F=3\n",
      "-656.335 nm I=2 F=3\n",
      "1875.244 nm I=4 F=3\n",
      "1281.905 nm I=5 F=3\n",
      "1093.892 nm I=6 F=3\n",
      "1005.014 nm I=7 F=3\n",
      "954.67 nm I=8 F=3\n",
      "922.972 nm I=9 F=3\n",
      "-97.235 nm I=1 F=4\n",
      "-486.174 nm I=2 F=4\n",
      "-1875.244 nm I=3 F=4\n",
      "4051.453 nm I=5 F=4\n",
      "2625.342 nm I=6 F=4\n",
      "2165.686 nm I=7 F=4\n",
      "1944.698 nm I=8 F=4\n",
      "1817.544 nm I=9 F=4\n",
      "-94.956 nm I=1 F=5\n",
      "-434.084 nm I=2 F=5\n",
      "-1281.905 nm I=3 F=5\n",
      "-4051.453 nm I=4 F=5\n",
      "7458.358 nm I=6 F=5\n",
      "4652.841 nm I=7 F=5\n",
      "3739.803 nm I=8 F=5\n",
      "3296.328 nm I=9 F=5\n",
      "-93.762 nm I=1 F=6\n",
      "-410.21 nm I=2 F=6\n",
      "-1093.892 nm I=3 F=6\n",
      "-2625.342 nm I=4 F=6\n",
      "-7458.358 nm I=5 F=6\n",
      "12369.399 nm I=7 F=6\n",
      "7500.977 nm I=8 F=6\n",
      "5907.019 nm I=9 F=6\n",
      "-93.057 nm I=1 F=7\n",
      "-397.042 nm I=2 F=7\n",
      "-1005.014 nm I=3 F=7\n",
      "-2165.686 nm I=4 F=7\n",
      "-4652.841 nm I=5 F=7\n",
      "-12369.399 nm I=6 F=7\n",
      "19058.037 nm I=8 F=7\n",
      "11306.404 nm I=9 F=7\n",
      "-92.605 nm I=1 F=8\n",
      "-388.94 nm I=2 F=8\n",
      "-954.67 nm I=3 F=8\n",
      "-1944.698 nm I=4 F=8\n",
      "-3739.803 nm I=5 F=8\n",
      "-7500.977 nm I=6 F=8\n",
      "-19058.037 nm I=7 F=8\n",
      "27797.737 nm I=9 F=8\n",
      "-92.297 nm I=1 F=9\n",
      "-383.573 nm I=2 F=9\n",
      "-922.972 nm I=3 F=9\n",
      "-1817.544 nm I=4 F=9\n",
      "-3296.328 nm I=5 F=9\n",
      "-5907.019 nm I=6 F=9\n",
      "-11306.404 nm I=7 F=9\n",
      "-27797.737 nm I=8 F=9\n"
     ]
    }
   ],
   "source": [
    "from numpy import *\n",
    "\n",
    "R=(1.097)*10**7\n",
    "\n",
    "for f in range(1,10):\n",
    "    for i in range(1,10):\n",
    "        if i != f:\n",
    "            L=round(((R*((1/f**2)-(1/i**2)))**(-1)*(10**9)),3)\n",
    "            print(str(L) + ' nm', 'I=' + str(i), 'F=' + str(f))"
   ]
  },
  {
   "cell_type": "code",
   "execution_count": 24,
   "metadata": {
    "scrolled": false
   },
   "outputs": [
    {
     "data": {
      "image/png": "[encoded data removed]",
      "text/plain": [
       "<Figure size 720x720 with 1 Axes>"
      ]
     },
     "metadata": {
      "needs_background": "light"
     },
     "output_type": "display_data"
    }
   ],
   "source": [
    "from pylab import *\n",
    "\n",
    "X_1=array(arange(.001,100))\n",
    "Y_1= X_1/(1+(X_1)**2)**(1/2)\n",
    "\n",
    "fig1 = figure(figsize=(10,10));\n",
    "loglog(X_1,Y_1,color='orange',linewidth=2)\n",
    "title('4D Graph', fontsize=25)\n",
    "xlabel('Frequency Ratio', fontsize=25)\n",
    "ylabel('Voltage Ratio', fontsize=25)\n",
    "grid(color='black', linestyle='-', linewidth=.5)\n",
    "plot(10,1,'or')\n",
    "text(1,.5,\"Vₒ/Vᵢ is largest at this point\", fontsize=15, color='red')\n",
    "TT=(\"Although it would be highest at infinity, \\n after this point the increase is neglible\")\n",
    "text(1,.25,TT, fontsize=11, wrap=True)\n",
    "#savefig(\"HenryWahhab_PS2_PHYS107.png\", bbox_inches = 'tight')\n"
   ]
  },
  {
   "cell_type": "code",
   "execution_count": null,
   "metadata": {},
   "outputs": [],
   "source": []
  }
 ],
 "metadata": {
  "kernelspec": {
   "display_name": "Python 3 (ipykernel)",
   "language": "python",
   "name": "python3"
  },
  "language_info": {
   "codemirror_mode": {
    "name": "ipython",
    "version": 3
   },
   "file_extension": ".py",
   "mimetype": "text/x-python",
   "name": "python",
   "nbconvert_exporter": "python",
   "pygments_lexer": "ipython3",
   "version": "3.7.13"
  }
 },
 "nbformat": 4,
 "nbformat_minor": 4
}
