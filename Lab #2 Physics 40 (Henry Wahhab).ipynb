{
 "cells": [
  {
   "cell_type": "code",
   "execution_count": 1,
   "metadata": {},
   "outputs": [
    {
     "name": "stdout",
     "output_type": "stream",
     "text": [
      "The final temperature after 3 hours is 74 degrees fahrenheit\n"
     ]
    }
   ],
   "source": [
    "from numpy import *\n",
    ">>> T_c,T_0,k,t = 39, 180, 0.46, 3\n",
    ">>> T_t=T_c+(T_0-T_c)*e**(-k*t)\n",
    ">>> print('The final temperature after 3 hours is %d degrees fahrenheit' %(T_t))"
   ]
  },
  {
   "cell_type": "code",
   "execution_count": 5,
   "metadata": {},
   "outputs": [
    {
     "name": "stdout",
     "output_type": "stream",
     "text": [
      "0.7500000000000001\n",
      "0.75\n",
      "1.4802973661668753e-16\n",
      "0.7500000000000001\n",
      "0.75\n",
      "1.4802973661668753e-16\n"
     ]
    }
   ],
   "source": [
    ">>> from numpy import *\n",
    ">>> x=pi/3\n",
    ">>> print(cos(x/2)**2)\n",
    ">>> print((tan(x)+sin(x))/(2*tan(x)))\n",
    ">>> print(abs((0.7500000000000001-0.75)/(0.75)))\n",
    "# Part c) You can repeat this without having to type everything in again by assigning variables to these equations and\n",
    "# only using the variables to calculate the values, also by using the up arrow key you can input previous commands.\n",
    ">>> y=(cos(x/2))**2\n",
    ">>> z=(tan(x)+sin(x))/(2*tan(x))\n",
    ">>> x=pi/2\n",
    ">>> print(y)\n",
    ">>> print(z)\n",
    ">>> w=abs((y-z)/(z))\n",
    ">>> print(w)"
   ]
  },
  {
   "cell_type": "code",
   "execution_count": null,
   "metadata": {},
   "outputs": [],
   "source": []
  },
  {
   "cell_type": "code",
   "execution_count": null,
   "metadata": {},
   "outputs": [],
   "source": []
  }
 ],
 "metadata": {
  "kernelspec": {
   "display_name": "Python 3",
   "language": "python",
   "name": "python3"
  },
  "language_info": {
   "codemirror_mode": {
    "name": "ipython",
    "version": 3
   },
   "file_extension": ".py",
   "mimetype": "text/x-python",
   "name": "python",
   "nbconvert_exporter": "python",
   "pygments_lexer": "ipython3",
   "version": "3.7.3"
  }
 },
 "nbformat": 4,
 "nbformat_minor": 4
}
