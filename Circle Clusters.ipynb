{
 "cells": [
  {
   "cell_type": "code",
   "execution_count": 17,
   "metadata": {},
   "outputs": [],
   "source": [
    "def circle_cluster(tup_list):\n",
    "    radii=[]\n",
    "    xcords=[]\n",
    "    ycords=[]\n",
    "\n",
    "    for a in range(len(tup_list)):\n",
    "        radii.append(tup_list[a][2])\n",
    "\n",
    "    for xc in range(len(tup_list)):\n",
    "        xcords.append(tup_list[xc][0])\n",
    "\n",
    "    for yc in range(len(tup_list)):\n",
    "        ycords.append(tup_list[yc][1])\n",
    "        \n",
    "    def distance(x1,x2,y1,y2):\n",
    "        distance= ((x1-x2)**2 + (y1-y2)**2)**(1/2)\n",
    "        return distance\n",
    "\n",
    "    for j in range(len(tup_list)-1):\n",
    "        for i in range(len(tup_list)-1):\n",
    "            if distance(xcords[j],xcords[i+1],ycords[j],ycords[i+1]) < (radii[j]+radii[i+1]) and j != i+1:\n",
    "                if radii[j] < radii[i+1]:\n",
    "                    tup_list[j]='small_radius'\n",
    "                elif radii[j] > radii[i+1]:\n",
    "                    tup_list[i+1]='small_radius'\n",
    "\n",
    "    while (tup_list.count('small_radius')): \n",
    "        tup_list.remove('small_radius')  \n",
    "    \n",
    "    print(tup_list)\n",
    "    #return circle_cluster\n"
   ]
  },
  {
   "cell_type": "code",
   "execution_count": 15,
   "metadata": {},
   "outputs": [
    {
     "name": "stdout",
     "output_type": "stream",
     "text": [
      "[(1.5, 1.5, 1.1), (4, 4, 0.7)]\n"
     ]
    }
   ],
   "source": [
    "circle_cluster([(.5,.5,.5),(1.5,1.5,1.1),(.7,.7,.4),(4,4,.7)])"
   ]
  },
  {
   "cell_type": "code",
   "execution_count": 19,
   "metadata": {},
   "outputs": [
    {
     "name": "stdout",
     "output_type": "stream",
     "text": [
      "[(1, 3, 0.7), (3, 3, 0.9)]\n"
     ]
    }
   ],
   "source": [
    "circle_cluster([(1,3,.7),(2,3,.4),(3,3,.9)]) #fix, only (3,3,0.9) should be left"
   ]
  },
  {
   "cell_type": "code",
   "execution_count": null,
   "metadata": {},
   "outputs": [],
   "source": []
  }
 ],
 "metadata": {
  "kernelspec": {
   "display_name": "Python 3",
   "language": "python",
   "name": "python3"
  },
  "language_info": {
   "codemirror_mode": {
    "name": "ipython",
    "version": 3
   },
   "file_extension": ".py",
   "mimetype": "text/x-python",
   "name": "python",
   "nbconvert_exporter": "python",
   "pygments_lexer": "ipython3",
   "version": "3.7.3"
  }
 },
 "nbformat": 4,
 "nbformat_minor": 2
}
