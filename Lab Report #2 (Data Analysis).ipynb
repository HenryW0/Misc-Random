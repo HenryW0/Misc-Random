{
 "cells": [
  {
   "cell_type": "code",
   "execution_count": 2,
   "metadata": {},
   "outputs": [
    {
     "name": "stdout",
     "output_type": "stream",
     "text": [
      "[[-2.5000000e+01  1.6000000e+00  9.5834691e-07 -3.0347269e-06]\n",
      " [-2.5000000e+01  1.8000000e+00  4.4045126e-06 -1.2795823e-05]\n",
      " [-2.5000000e+01  2.0000000e+00  1.5124786e-05 -4.0490983e-05]\n",
      " ...\n",
      " [ 6.0000000e+01  2.0000000e+01  1.7934706e+00  1.4316591e+01]\n",
      " [ 6.0000000e+01  2.2000000e+01  1.7572913e+00  1.3708830e+01]\n",
      " [ 6.0000000e+01  2.4000000e+01  1.7230256e+00  1.3145637e+01]]\n"
     ]
    }
   ],
   "source": [
    "import numpy as np\n",
    "\n",
    "mylines = np.loadtxt('Hubbard.dat', float)\n",
    "print(mylines)"
   ]
  },
  {
   "cell_type": "code",
   "execution_count": null,
   "metadata": {},
   "outputs": [],
   "source": []
  }
 ],
 "metadata": {
  "kernelspec": {
   "display_name": "Python 3",
   "language": "python",
   "name": "python3"
  },
  "language_info": {
   "codemirror_mode": {
    "name": "ipython",
    "version": 3
   },
   "file_extension": ".py",
   "mimetype": "text/x-python",
   "name": "python",
   "nbconvert_exporter": "python",
   "pygments_lexer": "ipython3",
   "version": "3.7.3"
  }
 },
 "nbformat": 4,
 "nbformat_minor": 2
}
