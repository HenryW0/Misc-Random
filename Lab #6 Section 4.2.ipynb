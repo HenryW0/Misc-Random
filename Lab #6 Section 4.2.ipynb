{
 "cells": [
  {
   "cell_type": "code",
   "execution_count": 12,
   "metadata": {},
   "outputs": [
    {
     "name": "stdout",
     "output_type": "stream",
     "text": [
      "[0.  0.1 0.2 0.3 0.4 0.5 0.6 0.7 0.8 0.9 1.  1.1 1.2 1.3 1.4 1.5 1.6 1.7\n",
      " 1.8 1.9 2.  2.1 2.2 2.3 2.4 2.5 2.6 2.7 2.8 2.9 3. ]\n",
      "[0.  0.1 0.2 0.3 0.4 0.5 0.6 0.7 0.8 0.9 1.  1.1 1.2 1.3 1.4 1.5 1.6 1.7\n",
      " 1.8 1.9 2.  2.1 2.2 2.3 2.4 2.5 2.6 2.7 2.8]\n",
      "[0.  0.5 1.  1.5 2.  2.5 3. ]\n",
      "[0.2 0.8 1.4 2.  2.6]\n",
      "\n",
      "<class 'list'>\n",
      "5\n",
      "(5,)\n",
      "5\n",
      "\n",
      "<class 'numpy.ndarray'>\n",
      "2\n",
      "(2, 3)\n",
      "6\n",
      "[[1. 2. 3.]\n",
      " [4. 5. 6.]]\n",
      "\n",
      "8\n",
      "2\n",
      "9\n",
      "44\n",
      "[2, 3, 4, 5, 6, 7, 8, 9]\n",
      "[2 3 4 5 6 7 8 9]\n",
      "\n",
      "[4. 4. 4. 4. 4. 4. 4. 4. 4. 4. 4.]\n",
      "\n",
      "[[ 0.   4.   8.  12.  16.  20.  24.  28. ]\n",
      " [69.  68.  67.  66.  65.  64.  63.  62. ]\n",
      " [ 1.4  1.1  0.8  0.5  0.2 -0.1 -0.4 -0.7]]\n",
      "[[ 0.   4.   8.   1.  16.  20.  24.  28. ]\n",
      " [69.  68.  67.   2.  65.  64.  63.  62. ]\n",
      " [ 1.4  1.1  0.8  3.   0.2 -0.1 -0.4 -0.7]]\n",
      "\n",
      "[[ 7.  7.  7.  7.  7.]\n",
      " [ 7.  7.  7.  7.  7.]\n",
      " [ 0.  0.  0.  0.  0.]\n",
      " [ 1.  2.  3.  4.  5.]\n",
      " [42. 42. 42. 42. 42.]]\n",
      "\n",
      "[[ 0.   4.   8.   1.  16.  20.  24.  28.   7.   7.   7.   7.   7. ]\n",
      " [69.  68.  67.   2.  65.  64.  63.  62.   0.   0.   0.   0.   0. ]\n",
      " [ 1.4  1.1  0.8  3.   0.2 -0.1 -0.4 -0.7  1.   2.   3.   4.   5. ]]\n",
      "\n"
     ]
    },
    {
     "data": {
      "text/plain": [
       "14"
      ]
     },
     "execution_count": 12,
     "metadata": {},
     "output_type": "execute_result"
    }
   ],
   "source": [
    "from numpy import *\n",
    "\n",
    "w= array(arange(0.0,3.1,.1))\n",
    "print(w[:]) #All of the elements in the array are being printed\n",
    "print(w[:-2]) #This is printing all of the elements except the last two in the array\n",
    "print(w[::5]) #This is printing every 5th element in the array, in this case it is in steps of 0.5 since each step is .1\n",
    "print(w[2:-2:6]) #In this example, it is starting from the 3rd element, in steps of every 6th element,\n",
    "#and not including the last 2 elements in the array\n",
    "\n",
    "print('') #space between outputs\n",
    "\n",
    "vector1=[1,2,3,4,5]\n",
    "print(type(vector1)) #This displays the data type of the vector which is a list\n",
    "print(len(vector1)) #This command shows the length/number of items (elements in this case) in the object which is 5\n",
    "print(shape(vector1)) #This command displays the amount of rows and columns the list has, 5 columns in this case \n",
    "print(size(vector1)) #Size is essentially the product the of rows and columns in the list or array which is 5\n",
    "\n",
    "print('') #space between outputs\n",
    "\n",
    "A= array([[1.,2.,3.],[4.,5.,6.]]) #[] is the number of rows, number of elements inside are the number of columns\n",
    "print(type(A)) #The type of this item is 'numpy.ndarray'\n",
    "print(len(A)) #This array has a length of 2 since there are 2 items within the object\n",
    "print(shape(A)) #The shape examines the amount of rows and columns which is (2, 3) since this array is a 2x3 matrix\n",
    "print(size(A)) #The size is 6 due to a total of 6 elements (2x3) in the matrix.\n",
    "print(A)\n",
    "\n",
    "print('') #space between outputs\n",
    "\n",
    "vector2=array(range(2,10))\n",
    "print(len(vector2)) #Length is the total amount of elements in this array which is 8\n",
    "print(min(vector2)) #The lowest/minimum value in the given array, which is 2\n",
    "print(max(vector2)) #The highest/maximum value that the array reaches to, 9\n",
    "print(sum(vector2)) #This is the sum of all the values in the array, in this example it is 2+3+4+5+6+7+8+9=44\n",
    "print(sorted(vector2)) #Creates a new copy of the sorted list, in numerical order\n",
    "print(sort(vector2)) #This sorts the original list instead, I used a different vector to check this (Can only be used for lists)\n",
    "\n",
    "print('') #space between outputs\n",
    "\n",
    "same = 4*(ones(11))\n",
    "print(same)\n",
    "\n",
    "print('') #space between outputs\n",
    "\n",
    "B=array([arange(0,29,4),arange(69,61,-1),arange(1.4,-0.8,-0.3)])\n",
    "print(B)\n",
    "B[0,3]=1\n",
    "B[1,3]=2\n",
    "B[2,3]=3\n",
    "print(B)\n",
    "\n",
    "print('') #space between outputs\n",
    "\n",
    "msame=ones([2,5])\n",
    "msame[:]=7\n",
    "msame=vstack((msame,[0,0,0,0,0])) # or can also use msame=vstack((msame,zeros(5)))\n",
    "msame=vstack((msame,[range(1,6)]))\n",
    "msame=vstack((msame,[msame[1]*6]))\n",
    "print(msame)\n",
    "\n",
    "print('') #space between outputs\n",
    "\n",
    "Z1=concatenate((B[0],msame[1]))\n",
    "Z2=concatenate((B[1],msame[2]))\n",
    "Z3=concatenate((B[2],msame[3]))\n",
    "Z4=vstack((Z1,Z2,Z3))\n",
    "print(Z4)\n",
    "\n",
    "print('') #space between outputs\n",
    "\n",
    "Vector_a=array([0,1,2])\n",
    "Vector_b=array([3,4,5])\n",
    "dot((Vector_a),(Vector_b)) #dot product in 1 line\n",
    "\n"
   ]
  },
  {
   "cell_type": "code",
   "execution_count": 1,
   "metadata": {},
   "outputs": [
    {
     "name": "stdout",
     "output_type": "stream",
     "text": [
      "T minus 10 seconds to liftoff!\n",
      "T minus 9 seconds to liftoff!\n",
      "T minus 8 seconds to liftoff!\n",
      "T minus 7 seconds to liftoff!\n",
      "T minus 6 seconds to liftoff!\n",
      "T minus 5 seconds to liftoff!\n",
      "T minus 4 seconds to liftoff!\n",
      "T minus 3 seconds to liftoff!\n",
      "T minus 2 seconds to liftoff!\n",
      "T minus 1 seconds to liftoff!\n",
      "T minus 0 seconds to liftoff!\n"
     ]
    }
   ],
   "source": [
    "import time\n",
    "\n",
    "sec = 10\n",
    "while sec >= 0 :\n",
    "    print('T minus %d seconds to liftoff!' %(sec))\n",
    "    time.sleep(1)\n",
    "    sec-= 1"
   ]
  },
  {
   "cell_type": "code",
   "execution_count": 2,
   "metadata": {
    "scrolled": true
   },
   "outputs": [
    {
     "name": "stdout",
     "output_type": "stream",
     "text": [
      "\u001b[1;32;48m Hacking into NASA: 0% Completion \n",
      "\n",
      "\u001b[1;32;48m Hacking into NASA: 20% Completion \n",
      "\n",
      "\u001b[1;32;48m Hacking into NASA: 40% Completion \n",
      "\n",
      "\u001b[1;32;48m Hacking into NASA: 60% Completion \n",
      "\n",
      "\u001b[1;32;48m Hacking into NASA: 80% Completion \n",
      "\n",
      " Hacking into NASA: 100% Completion\n",
      "\u001b[5;31;48m SIKE \n",
      "\n"
     ]
    }
   ],
   "source": [
    "import time\n",
    "\n",
    "percentage= 0\n",
    "while percentage < 100:\n",
    "    print('\\033[1;32;48m Hacking into NASA: %d%% Completion \\n' %(percentage))\n",
    "    time.sleep(2)\n",
    "    percentage += 20\n",
    "    if percentage==100 :\n",
    "        print(' Hacking into NASA: %d%% Completion' %(percentage))\n",
    "        time.sleep(2)\n",
    "        print('\\033[5;31;48m SIKE \\n')"
   ]
  },
  {
   "cell_type": "code",
   "execution_count": null,
   "metadata": {},
   "outputs": [],
   "source": []
  }
 ],
 "metadata": {
  "kernelspec": {
   "display_name": "Python 3",
   "language": "python",
   "name": "python3"
  },
  "language_info": {
   "codemirror_mode": {
    "name": "ipython",
    "version": 3
   },
   "file_extension": ".py",
   "mimetype": "text/x-python",
   "name": "python",
   "nbconvert_exporter": "python",
   "pygments_lexer": "ipython3",
   "version": "3.7.3"
  }
 },
 "nbformat": 4,
 "nbformat_minor": 4
}
