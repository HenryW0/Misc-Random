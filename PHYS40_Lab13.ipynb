{
 "cells": [
  {
   "cell_type": "code",
   "execution_count": 2,
   "metadata": {},
   "outputs": [
    {
     "data": {
      "application/vnd.jupyter.widget-view+json": {
       "model_id": "605a0f3b5e5f4dccb2508df9009b40dc",
       "version_major": 2,
       "version_minor": 0
      },
      "text/plain": [
       "interactive(children=(IntSlider(value=50, description='v_i', min=1), IntSlider(value=45, description='θ', max=…"
      ]
     },
     "metadata": {},
     "output_type": "display_data"
    },
    {
     "data": {
      "text/plain": [
       "<function __main__.flight_time(v_i, θ, Building, Print)>"
      ]
     },
     "execution_count": 2,
     "metadata": {},
     "output_type": "execute_result"
    }
   ],
   "source": [
    "from pylab import *\n",
    "from ipywidgets import interact \n",
    "g = 9.8\n",
    "\n",
    "def flight_time(v_i,θ,Building,Print):       \n",
    "    flight_time = (2*v_i*sin(θ*pi/180))/g \n",
    "    \n",
    "    time2 = (100)/(v_i*cos(θ * pi/180)) #Time at 100 meters\n",
    "    time3 = (110)/(v_i*cos(θ * pi/180)) #Time at 110 meters\n",
    "    ball_wall=((time2* v_i*sin(θ * pi/180)) - ((g/2)*(time2**2))) #Height at 100 meters\n",
    "    ball_wall2=((time3* v_i*sin(θ * pi/180)) - ((g/2)*(time3**2))) #Height at 110 meters\n",
    "    \n",
    "    time=linspace(0.0,flight_time,16) #array of time based on flight_time\n",
    "    X_Range = (time*v_i*cos(θ * pi/180)) \n",
    "    Y_Height = ((time* v_i*sin(θ * pi/180)) - ((1/2)*g*(time**2)))\n",
    "    \n",
    "    \n",
    "    P = 0\n",
    "    while P < 16:\n",
    "        if Print==True:\n",
    "            print('At %.3f seconds the range is %.3f meters and the height is %.3f meters' %(time[P],X_Range[P],Y_Height[P]))\n",
    "        P +=1\n",
    "        if P==15 and X_Range[P] <= 100:\n",
    "            time2=flight_time\n",
    "            if Y_Height[P] < 0:\n",
    "                Y_Height[P] = 0\n",
    "            if Print==True:\n",
    "                print('At %.3f seconds the range is %.3f meters and the height is %.3f meters' %(time[P],X_Range[P],Y_Height[P]))\n",
    "            S='The ball hit the ground!'\n",
    "            break\n",
    "        elif X_Range[P] > 100:\n",
    "            if ball_wall > Building:\n",
    "                if Print==True:\n",
    "                    print('At %.3f seconds the range is %.3f meters and the height is %.3f meters' %(time3,110,ball_wall2))\n",
    "                    print('The total flight time is', round(flight_time,3),'seconds')\n",
    "                time2= (110)/(v_i*cos(θ * pi/180))\n",
    "                S='Home Run!'\n",
    "                break\n",
    "            elif ball_wall <= Building:\n",
    "                if Print==True:\n",
    "                    print('At %.3f seconds the range is %.3f meters and the height is %.3f meters' %(time2,100,ball_wall))\n",
    "                if Building==8:\n",
    "                    S='The ball hit the wall!'\n",
    "                elif Building== 15 or 25:\n",
    "                    S='Broken Window'\n",
    "                break\n",
    "        elif ball_wall > Building and ball_wall2 < Building and Building > 8:\n",
    "            time2=(-v_i*sin(θ * pi/180)-sqrt((v_i*sin(θ * pi/180))**2-4*-4.9*-Building))/(2*-4.9)\n",
    "            time=linspace(0.0,time2,16)\n",
    "            X_Range = (time*v_i*cos(θ * pi/180)) \n",
    "            Y_Height = ((time* v_i*sin(θ * pi/180)) - ((1/2)*g*(time**2)))\n",
    "            if Print==True:\n",
    "                z=1\n",
    "                while z < 16:\n",
    "                        print('At %.3f seconds the range is %.3f meters and the height is %.3f meters' \\\n",
    "                              %(time[z],X_Range[z],Y_Height[z]))\n",
    "                        z += 1\n",
    "            S='On the roof!'\n",
    "            break\n",
    "     \n",
    "    \n",
    "    plot_TIME=linspace(0,time2,50)\n",
    "    X_Range2 = (plot_TIME*v_i*cos(θ * pi/180))\n",
    "    Y_Height2 = ((plot_TIME* v_i*sin(θ * pi/180)) - ((1/2)*g*(plot_TIME**2)))\n",
    "    \n",
    "    if ball_wall >= 0:\n",
    "        fig1 = figure(figsize=(12,12));\n",
    "        plot(X_Range2,Y_Height2,color='red',linewidth=2,label='Ball Path')\n",
    "    elif ball_wall < 0:\n",
    "        fig1 = figure(figsize=(12,12));\n",
    "        plot(X_Range2,Y_Height2,color='red',linewidth=2,label='Ball Path')\n",
    "    rcParams.update({'font.size': 20})\n",
    "    xlim(0,110)\n",
    "    ylim(0,55)\n",
    "    title(S, fontsize=25)\n",
    "    xlabel('$Range$ (meters)', fontsize=25)\n",
    "    ylabel('$Height$ (meters)', fontsize=25)\n",
    "    if Building==8:\n",
    "        vlines(100, 0, 8, colors='forestgreen', linestyles='-',linewidth=8,label='Wall')\n",
    "    elif Building==15:\n",
    "        bar(105,15,10,align='center',label='House',color='darkslategrey')\n",
    "    elif Building==25:\n",
    "        bar(105,25,10,align='center',label='Office',color='indigo')\n",
    "        \n",
    "    legend(loc='upper left',fontsize=20)\n",
    "    grid(color='gray', linestyle='-', linewidth=.5)\n",
    "    \n",
    "    \n",
    "      \n",
    "interact(flight_time, v_i=(1,100,1), θ=(1,89,1),Building={'House': 15, 'Wall': 8, 'Office': 25},Print=False)\n",
    "#print('v\\u2080')"
   ]
  },
  {
   "cell_type": "code",
   "execution_count": null,
   "metadata": {},
   "outputs": [],
   "source": []
  }
 ],
 "metadata": {
  "kernelspec": {
   "display_name": "Python 3",
   "language": "python",
   "name": "python3"
  },
  "language_info": {
   "codemirror_mode": {
    "name": "ipython",
    "version": 3
   },
   "file_extension": ".py",
   "mimetype": "text/x-python",
   "name": "python",
   "nbconvert_exporter": "python",
   "pygments_lexer": "ipython3",
   "version": "3.7.3"
  }
 },
 "nbformat": 4,
 "nbformat_minor": 2
}
