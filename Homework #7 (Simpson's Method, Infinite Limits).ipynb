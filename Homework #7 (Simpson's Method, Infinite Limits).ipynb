{
 "cells": [
  {
   "cell_type": "code",
   "execution_count": 4,
   "metadata": {},
   "outputs": [
    {
     "name": "stdout",
     "output_type": "stream",
     "text": [
      "My Simpsons function = 3.3318520520547004e+57\n",
      "Built In Simpsons Function = 6.49394\n",
      "Stefan-Boltzman Constant is appoximately 2.91e+49 watt per meter squared per kelvin to the fourth\n"
     ]
    }
   ],
   "source": [
    "import numpy as np\n",
    "from scipy.integrate import simps\n",
    "\n",
    "K_B = 1.38064852e-23 #Define constants\n",
    "h_bar = 1.0545718e-34\n",
    "c = 299792458\n",
    "\n",
    "a, b = 1e-12, 1 + 1e-12 #Bounds shifted to the right, they can also be shifted left but that does not affect the values\n",
    "#I would assume subtracting/shifting to the left would be inaccurate due to the lack of precision for subtracting small values \n",
    "\n",
    "N = 101 #N is the number of grid points in this case \n",
    "\n",
    "\n",
    "def func(x): #Original Function\n",
    "    return (x**3)/(np.exp(x) - 1) \n",
    "\n",
    "def func2(z): #Change of base function\n",
    "    return func(z/(1-z)) * (1/(1-z)**2)\n",
    "\n",
    "def Simpsons(f, N): #My simpsons function\n",
    "    dz = (b - a)/(N - 1)\n",
    "\n",
    "    I = (func(a) + func(b))/3.0\n",
    "\n",
    "    for i in range(1, N - 1, 2):\n",
    "        z = a + i*dz\n",
    "        I += 4 * f(z)/3\n",
    "\n",
    "    for i in range(2, N - 1, 2):\n",
    "        z = a + i*dz\n",
    "        I += 2 * f(z)/3\n",
    "\n",
    "    I *= dz\n",
    "    return I \n",
    "\n",
    "\n",
    "Estimate = Simpsons(func2, N)\n",
    "\n",
    "print(f'My Simpsons function = {Estimate}')\n",
    "\n",
    "x2 = np.linspace(a, 100, 10*N + 1)\n",
    "\n",
    "Built_In = simps(func(x2), x2) #Using scipy function\n",
    "\n",
    "print(f'Built In Simpsons Function = {Built_In:.5f}')\n",
    "\n",
    "\n",
    "Stefan = (Estimate * (K_B)**4)/(4 * np.pi**2 * c**2 * h_bar**3)\n",
    "print(f'Stefan-Boltzman Constant is appoximately {Stefan:.3g} watt per meter squared per kelvin to the fourth')"
   ]
  },
  {
   "cell_type": "code",
   "execution_count": null,
   "metadata": {},
   "outputs": [],
   "source": []
  },
  {
   "cell_type": "code",
   "execution_count": null,
   "metadata": {},
   "outputs": [],
   "source": []
  }
 ],
 "metadata": {
  "kernelspec": {
   "display_name": "Python 3",
   "language": "python",
   "name": "python3"
  },
  "language_info": {
   "codemirror_mode": {
    "name": "ipython",
    "version": 3
   },
   "file_extension": ".py",
   "mimetype": "text/x-python",
   "name": "python",
   "nbconvert_exporter": "python",
   "pygments_lexer": "ipython3",
   "version": "3.7.3"
  }
 },
 "nbformat": 4,
 "nbformat_minor": 2
}
