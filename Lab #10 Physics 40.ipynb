{
 "cells": [
  {
   "cell_type": "code",
   "execution_count": 1,
   "metadata": {},
   "outputs": [
    {
     "ename": "ModuleNotFoundError",
     "evalue": "No module named 'pylab'",
     "output_type": "error",
     "traceback": [
      "\u001b[1;31m---------------------------------------------------------------------------\u001b[0m",
      "\u001b[1;31mModuleNotFoundError\u001b[0m                       Traceback (most recent call last)",
      "\u001b[1;32m~\\AppData\\Local\\Temp\\ipykernel_10748\\2802657540.py\u001b[0m in \u001b[0;36m<module>\u001b[1;34m\u001b[0m\n\u001b[1;32m----> 1\u001b[1;33m \u001b[1;32mfrom\u001b[0m \u001b[0mpylab\u001b[0m \u001b[1;32mimport\u001b[0m \u001b[1;33m*\u001b[0m\u001b[1;33m\u001b[0m\u001b[1;33m\u001b[0m\u001b[0m\n\u001b[0m\u001b[0;32m      2\u001b[0m \u001b[0mg\u001b[0m \u001b[1;33m=\u001b[0m \u001b[1;36m9.8\u001b[0m\u001b[1;33m\u001b[0m\u001b[1;33m\u001b[0m\u001b[0m\n\u001b[0;32m      3\u001b[0m \u001b[1;33m\u001b[0m\u001b[0m\n\u001b[0;32m      4\u001b[0m \u001b[1;32mdef\u001b[0m \u001b[0mflight_time\u001b[0m\u001b[1;33m(\u001b[0m\u001b[0mv_i\u001b[0m\u001b[1;33m,\u001b[0m\u001b[0mθ\u001b[0m\u001b[1;33m)\u001b[0m\u001b[1;33m:\u001b[0m\u001b[1;33m\u001b[0m\u001b[1;33m\u001b[0m\u001b[0m\n\u001b[0;32m      5\u001b[0m     \u001b[1;32mif\u001b[0m \u001b[0mv_i\u001b[0m \u001b[1;33m>=\u001b[0m \u001b[1;36m0\u001b[0m \u001b[1;32mand\u001b[0m \u001b[0mθ\u001b[0m \u001b[1;33m>=\u001b[0m \u001b[1;36m0\u001b[0m \u001b[1;32mand\u001b[0m \u001b[0mθ\u001b[0m \u001b[1;33m<=\u001b[0m \u001b[1;36m90\u001b[0m\u001b[1;33m:\u001b[0m\u001b[1;33m\u001b[0m\u001b[1;33m\u001b[0m\u001b[0m\n",
      "\u001b[1;31mModuleNotFoundError\u001b[0m: No module named 'pylab'"
     ]
    }
   ],
   "source": [
    "from pylab import *\n",
    "g = 9.8\n",
    "\n",
    "def flight_time(v_i,θ):\n",
    "    if v_i >= 0 and θ >= 0 and θ <= 90:\n",
    "        flight_time = (2*v_i*sin(θ*pi/180))/g #Ignoring the intial height of the player and negative angles\n",
    "        print('The flight time of the object is %.3f seconds' %(flight_time))\n",
    "    elif v_i < 0 and θ >= 0 and θ <= 90 :\n",
    "        print('\\033[1;31;48mSpeed cannot be negative, absolute value taken \\n')\n",
    "        flight_time = (2*abs(v_i)*sin(θ*pi/180))/g\n",
    "        print('\\033[0;30;48mThe flight time of the object is %.3f seconds \\n' %(flight_time))\n",
    "    elif θ < 0 or θ > 90:\n",
    "        print('\\033[1;31;48mThe angle cannot be less than 0 degrees or greater than 90 degrees \\n')\n",
    "        flight_time= nan\n",
    "    elif ((2*v_i*sin(θ*pi/180))/g) < 0:\n",
    "        print('\\033[1;31;48mThe angle cannot be less than 0 degrees or greater than 90 degrees \\n')\n",
    "        flight_time= nan\n",
    "    return flight_time\n",
    "v_i, θ = eval(input('Enter intial speed (m/s) and angle (°) above the horizontal (v_i,θ): '))\n",
    "\n",
    "t_f=flight_time(v_i,θ)\n",
    "time=linspace(0.0,t_f,20)\n",
    "\n",
    "def h_range(v_i,θ,t_f):\n",
    "    h_range=zeros(len(time))\n",
    "    N = 0\n",
    "    while N < 20 :\n",
    "        if t_f > 0:\n",
    "            x_f=(abs(v_i)*cos(θ*pi/180)*time[N])\n",
    "            h_range[N]=x_f\n",
    "            #print('The range is %.3f meters' %(h_range[N]))\n",
    "            N +=1\n",
    "        elif N == 20:\n",
    "            break\n",
    "        elif t_f == nan or t_f == 0 :\n",
    "            raise ValueError('Flight time is 0 seconds')\n",
    "            break\n",
    "    return h_range\n",
    "X_F=h_range(v_i,θ,t_f)\n",
    "\n",
    "print('') #Space between outputs\n",
    "\n",
    "def v_height(v_i,θ,t_f):\n",
    "    v_height=zeros(len(time))\n",
    "    S = 0\n",
    "    while S < 20 :\n",
    "        if t_f > 0:\n",
    "            y_f=(abs(v_i))*sin(θ*pi/180)*time[S]-((9.8*(time[S]**2))/2)\n",
    "            v_height[S]=y_f\n",
    "            #print('The height is %.3f meters' %(v_height[S]))\n",
    "            S +=1\n",
    "        elif S == 20:\n",
    "            break\n",
    "        elif t_f == nan or t_f == 0 :\n",
    "            raise ValueError('Flight time is 0 seconds')\n",
    "            break\n",
    "    return v_height\n",
    "Y_F=v_height(v_i,θ,t_f)\n",
    "\n",
    "def position():\n",
    "    for P in range(20):\n",
    "        if Y_F[P] < 0:\n",
    "            Y_F[P] = 0\n",
    "        print('At %.3f seconds the range is %.3f meters and the height is %.3f meters' %(time[P],X_F[P],Y_F[P]))\n",
    "    if X_F[P] > 100:\n",
    "        print('\\033[1;32;48mHome Run! \\n') #Ignoring the Wall Height at 100 meters\n",
    "    return position\n",
    "P_F=position()\n",
    "\n",
    "fig1 = figure(figsize=(12,12));\n",
    "#ax = fig1.add_subplot(111, aspect='equal') #Stretches out x-axis too much\n",
    "title('Ball Height Versus Ball Range', fontsize=25)\n",
    "xlabel('$Range$ (meters)', fontsize=25)\n",
    "ylabel('$Height$ (meters)', fontsize=25)\n",
    "grid(color='black', linestyle='-', linewidth=.5)\n",
    "plot(X_F,Y_F,color='red',linewidth=2)\n",
    "#savefig('Henry_Wahhab_Lab10_YversusXGraph.png', bbox_inches = 'tight')\n"
   ]
  },
  {
   "cell_type": "code",
   "execution_count": null,
   "metadata": {},
   "outputs": [],
   "source": []
  }
 ],
 "metadata": {
  "kernelspec": {
   "display_name": "Python 3 (ipykernel)",
   "language": "python",
   "name": "python3"
  },
  "language_info": {
   "codemirror_mode": {
    "name": "ipython",
    "version": 3
   },
   "file_extension": ".py",
   "mimetype": "text/x-python",
   "name": "python",
   "nbconvert_exporter": "python",
   "pygments_lexer": "ipython3",
   "version": "3.7.13"
  }
 },
 "nbformat": 4,
 "nbformat_minor": 4
}
